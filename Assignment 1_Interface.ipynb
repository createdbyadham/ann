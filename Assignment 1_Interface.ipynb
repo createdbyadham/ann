{
 "cells": [
  {
   "cell_type": "code",
   "execution_count": 1,
   "id": "f73f371e",
   "metadata": {},
   "outputs": [],
   "source": [
    "import joblib\n",
    "from keras.models import load_model\n",
    "import gradio as gr\n",
    "import numpy as np"
   ]
  },
  {
   "cell_type": "code",
   "execution_count": 2,
   "id": "54569948",
   "metadata": {},
   "outputs": [],
   "source": [
    "ann_model = load_model('ann_model.h5')\n",
    "geography_encoder = joblib.load('geography_encoder.pkl')\n",
    "gender_encoder = joblib.load('gender_encoder.pkl')\n",
    "ct = joblib.load('column_transformer.pkl')\n",
    "sc = joblib.load('standard_scaler.pkl')"
   ]
  },
  {
   "cell_type": "code",
   "execution_count": 3,
   "id": "ddb8148c",
   "metadata": {},
   "outputs": [
    {
     "name": "stdout",
     "output_type": "stream",
     "text": [
      "Running on local URL:  http://127.0.0.1:7860\n",
      "\n",
      "To create a public link, set `share=True` in `launch()`.\n"
     ]
    },
    {
     "data": {
      "text/html": [
       "<div><iframe src=\"http://127.0.0.1:7860/\" width=\"100%\" height=\"500\" allow=\"autoplay; camera; microphone; clipboard-read; clipboard-write;\" frameborder=\"0\" allowfullscreen></iframe></div>"
      ],
      "text/plain": [
       "<IPython.core.display.HTML object>"
      ]
     },
     "metadata": {},
     "output_type": "display_data"
    },
    {
     "data": {
      "text/plain": []
     },
     "execution_count": 3,
     "metadata": {},
     "output_type": "execute_result"
    }
   ],
   "source": [
    "def predict_customer_churn(CreditScore, Geography, Gender, Age, Tenure, Balance, NumOfProducts, HasCrCard, IsActiveMember, EstimatedSalary):\n",
    "    \n",
    "    IsActiveMember = int(IsActiveMember == 'True')\n",
    "    HasCrCard = int(HasCrCard == 'True')\n",
    "\n",
    "    \n",
    "    new_observation = np.array([[CreditScore, Geography, Gender, Age, Tenure, Balance, NumOfProducts, HasCrCard, int(IsActiveMember), EstimatedSalary]])  # Convert IsActiveMember to int\n",
    "\n",
    "    new_observation[:, 1] = geography_encoder.transform(new_observation[:, 1].reshape(-1, 1)) \n",
    "    new_observation[:, 2] = gender_encoder.transform(new_observation[:, 2].reshape(-1, 1)) \n",
    "\n",
    "    new_observation = ct.transform(new_observation)\n",
    "\n",
    "    new_observation = sc.transform(new_observation)\n",
    "    new_prediction = ann_model.predict(new_observation)[0]\n",
    "    probability = new_prediction\n",
    "    new_prediction = (new_prediction > 0.5)\n",
    "\n",
    "    prediction_result = \"Will Leave\" if new_prediction else \"Will Stay\"\n",
    "    return f\"Prediction: {prediction_result}, Probability of leaving: {probability*100}%\"\n",
    "\n",
    "iface = gr.Interface(fn=predict_customer_churn, \n",
    "                     inputs=[\"number\", \"text\", \"text\", \"number\", \"number\", \"number\", \"number\", \"text\", \"text\", \"number\"], \n",
    "                     outputs=\"text\",\n",
    "                     examples=[\n",
    "                         [600, 'Spain', 'Female', 40, 3, 60000, 2, 'True', 'True', 50000],\n",
    "                         [800, 'Germany', 'Male', 50, 5, 70000, 1, 'False', 'False', 60000]\n",
    "                     ])\n",
    "\n",
    "iface.launch()\n"
   ]
  },
  {
   "cell_type": "code",
   "execution_count": null,
   "id": "6549681b",
   "metadata": {},
   "outputs": [],
   "source": []
  }
 ],
 "metadata": {
  "kernelspec": {
   "display_name": "Python 3 (ipykernel)",
   "language": "python",
   "name": "python3"
  },
  "language_info": {
   "codemirror_mode": {
    "name": "ipython",
    "version": 3
   },
   "file_extension": ".py",
   "mimetype": "text/x-python",
   "name": "python",
   "nbconvert_exporter": "python",
   "pygments_lexer": "ipython3",
   "version": "3.10.9"
  }
 },
 "nbformat": 4,
 "nbformat_minor": 5
}
